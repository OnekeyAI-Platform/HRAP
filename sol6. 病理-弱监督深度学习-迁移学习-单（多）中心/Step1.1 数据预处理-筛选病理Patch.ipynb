{
 "cells": [
  {
   "cell_type": "markdown",
   "id": "c8717d3c",
   "metadata": {},
   "source": [
    "# Onekey CNN based Patch Recognition\n",
    "\n",
    "The implemented CNN-based model demonstrates significant advancements in the identification of predictive patches within image data, surpassing traditional methods in both accuracy and efficiency. Unlike conventional algorithms that rely on manually crafted features, which are often labor-intensive and require specialized expertise, CNNs autonomously learn hierarchical spatial features directly from the input data. This capability allows the model to adaptively capture complex patterns inherent in the images, leading to superior generalization across diverse datasets.\n",
    "\n",
    "Key advantages of this CNN model include:\n",
    "\n",
    "1. **Enhanced Predictive Accuracy**: The model achieves an impressive AUC of 0.98, indicating near-perfect performance in distinguishing between predictive and non-predictive patches. This highlights its efficacy in the target identification task.\n",
    "\n",
    "2. **Automatic Feature Extraction**: The CNN model's ability to learn and extract features autonomously from the data eliminates the need for manual feature engineering, thereby enhancing flexibility and reducing reliance on expert input.\n",
    "\n",
    "3. **Scalability and Robustness**: The model benefits from the extensive dataset used for training, which includes 500,000 predictive patches and an equal number of non-predictive regions. The large data volume ensures the model's robustness, mitigates the risk of overfitting, and enhances its capacity to generalize across varied and unseen data.\n",
    "\n",
    "These attributes collectively make the CNN model a powerful and efficient tool for predictive patch identification, offering significant improvements in performance and reliability compared to traditional methodologies.\n",
    "\n",
    "[1]. OnekeyAI-Platform. (2024). Onekey (Version 4.8.18). GitHub repository. https://github.com/OnekeyAI-Platform/onekey"
   ]
  },
  {
   "cell_type": "code",
   "execution_count": null,
   "id": "c961c83c",
   "metadata": {},
   "outputs": [],
   "source": [
    "## 获得视频教程\n",
    "from onekey_algo.custom.Manager import onekey_show\n",
    "onekey_show('CNN-patch2predict', force_show=True)"
   ]
  },
  {
   "cell_type": "code",
   "execution_count": null,
   "id": "7e647f56",
   "metadata": {},
   "outputs": [
    {
     "name": "stderr",
     "output_type": "stream",
     "text": [
      "[2024-09-22 16:25:39 - patch2predict.py:  35]\tINFO\tDataloader mode, using cuda\n",
      "[2024-09-22 16:25:39 - patch2predict.py:  44]\tINFO\tE:\\OnekeyDS\\multi_modal_omics\\patches1一共有0样本。\n",
      "[2024-09-22 16:25:39 - patch2predict.py:  44]\tINFO\tE:\\OnekeyDS\\multi_modal_omics\\patches1\\0一共有260样本。\n",
      "[2024-09-22 16:25:48 - patch2predict.py:  44]\tINFO\tE:\\OnekeyDS\\multi_modal_omics\\patches1\\1一共有1760样本。\n",
      "[2024-09-22 16:26:08 - patch2predict.py:  44]\tINFO\tE:\\OnekeyDS\\multi_modal_omics\\patches1\\10一共有864样本。\n",
      "[2024-09-22 16:26:19 - patch2predict.py:  44]\tINFO\tE:\\OnekeyDS\\multi_modal_omics\\patches1\\100一共有2550样本。\n",
      "[2024-09-22 16:26:50 - patch2predict.py:  44]\tINFO\tE:\\OnekeyDS\\multi_modal_omics\\patches1\\101一共有644样本。\n",
      "[2024-09-22 16:26:57 - patch2predict.py:  44]\tINFO\tE:\\OnekeyDS\\multi_modal_omics\\patches1\\102一共有740样本。\n",
      "[2024-09-22 16:27:06 - patch2predict.py:  44]\tINFO\tE:\\OnekeyDS\\multi_modal_omics\\patches1\\103一共有1628样本。\n",
      "[2024-09-22 16:27:25 - patch2predict.py:  44]\tINFO\tE:\\OnekeyDS\\multi_modal_omics\\patches1\\104一共有4345样本。\n",
      "[2024-09-22 16:28:16 - patch2predict.py:  44]\tINFO\tE:\\OnekeyDS\\multi_modal_omics\\patches1\\105一共有1824样本。\n",
      "[2024-09-22 16:28:37 - patch2predict.py:  44]\tINFO\tE:\\OnekeyDS\\multi_modal_omics\\patches1\\106一共有1476样本。\n"
     ]
    }
   ],
   "source": [
    "from onekey_algo.mietb.patch_preprocess import patch2predict\n",
    "from onekey_algo import get_param_in_cwd\n",
    "\n",
    "sample_dir = get_param_in_cwd('data_pattern')\n",
    "patch2predict(sample_dir)"
   ]
  },
  {
   "cell_type": "code",
   "execution_count": null,
   "id": "9bc64d44",
   "metadata": {},
   "outputs": [],
   "source": []
  }
 ],
 "metadata": {
  "kernelspec": {
   "display_name": "Python 3 (ipykernel)",
   "language": "python",
   "name": "python3"
  },
  "language_info": {
   "codemirror_mode": {
    "name": "ipython",
    "version": 3
   },
   "file_extension": ".py",
   "mimetype": "text/x-python",
   "name": "python",
   "nbconvert_exporter": "python",
   "pygments_lexer": "ipython3",
   "version": "3.7.12"
  }
 },
 "nbformat": 4,
 "nbformat_minor": 5
}
