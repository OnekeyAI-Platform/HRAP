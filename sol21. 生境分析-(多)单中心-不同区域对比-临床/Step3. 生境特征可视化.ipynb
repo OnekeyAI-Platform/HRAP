{
 "cells": [
  {
   "cell_type": "code",
   "execution_count": null,
   "id": "72422749",
   "metadata": {},
   "outputs": [],
   "source": [
    "from onekey_algo.custom.components.habitat import habitat_viz\n",
    "\n",
    "path2npy = r'C:/Users/onekey/Desktop/demo/habitat/cluster_3/clusters.npy'\n",
    "habitat_viz(path2npy, with_voxels=True, sample_ratio=0.01)"
   ]
  },
  {
   "cell_type": "code",
   "execution_count": null,
   "id": "ba0ab7b6",
   "metadata": {},
   "outputs": [],
   "source": []
  }
 ],
 "metadata": {
  "kernelspec": {
   "display_name": "Python 3 (ipykernel)",
   "language": "python",
   "name": "python3"
  },
  "language_info": {
   "codemirror_mode": {
    "name": "ipython",
    "version": 3
   },
   "file_extension": ".py",
   "mimetype": "text/x-python",
   "name": "python",
   "nbconvert_exporter": "python",
   "pygments_lexer": "ipython3",
   "version": "3.7.12"
  }
 },
 "nbformat": 4,
 "nbformat_minor": 5
}
