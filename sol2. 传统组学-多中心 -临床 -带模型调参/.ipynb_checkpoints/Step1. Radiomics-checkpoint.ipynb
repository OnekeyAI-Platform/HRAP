{
 "cells": [
  {
   "cell_type": "markdown",
   "id": "b35d2e8f",
   "metadata": {},
   "source": [
    "# Comp1-传统组学\n",
    "\n",
    "主要适配于传统组学的建模和刻画。典型的应用场景探究rad_score最最终临床诊断的作用。\n",
    "\n",
    "数据的一般形式为(具体文件,文件夹名可以不同)：\n",
    "1. `images`文件夹，存放研究对象所有的CT、MRI等数据。\n",
    "2. `masks`文件夹, 存放手工（Manuelly）勾画的ROI区域。与images文件夹的文件意义对应。\n",
    "3. `label.txt`文件，每个患者对应的标签，例如肿瘤的良恶性、5年存活状态等。\n",
    "\n",
    "## Onekey步骤\n",
    "\n",
    "1. 数据校验，检查数据格式是否正确。\n",
    "2. 组学特征提取，如果第一步检查数据通过，则提取对应数据的特征。\n",
    "3. 读取标注数据信息。\n",
    "4. 特征与标注数据拼接。形成数据集。\n",
    "5. 查看一些统计信息，检查数据时候存在异常点。\n",
    "6. 正则化，将数据变化到服从 N~(0, 1)。\n",
    "7. 通过相关系数，例如spearman、person等筛选出特征。\n",
    "8. 构建训练集和测试集，这里使用的是随机划分，正常多中心验证，需要大家根据自己的场景构建两份数据。\n",
    "9. 通过Lasso筛选特征，选取其中的非0项作为后续模型的特征。\n",
    "10. 使用机器学习算法，例如LR、SVM、RF等进行任务学习。\n",
    "11. 模型结果可视化，例如AUC、ROC曲线，混淆矩阵等。\n"
   ]
  },
  {
   "cell_type": "code",
   "execution_count": 1,
   "id": "6669aaca",
   "metadata": {},
   "outputs": [
    {
     "name": "stderr",
     "output_type": "stream",
     "text": [
      "[2025-09-01 21:42:35 - <frozen onekey_algo.custom.Manager>: 151]\tINFO\t播放视频功能已经设置成：Disable！\n"
     ]
    }
   ],
   "source": [
    "## 获得视频教程\n",
    "from onekey_algo.custom.Manager import onekey_show\n",
    "onekey_show('传统组学任务')"
   ]
  },
  {
   "cell_type": "markdown",
   "id": "bb054795",
   "metadata": {},
   "source": [
    "## 一、数据校验\n",
    "首先需要检查诊断数据，如果显示`检查通过！`择可以正常运行之后的，否则请根据提示调整数据。\n",
    "\n",
    "**注意**：这里要求images和masks文件夹中的文件名必须一一对应。e.g. `1.nii.gz`为images中的一个文件，在masks文件夹必须也存在一个`1.nii.gz`文件。\n",
    "\n",
    "当然也可以使用自定义的函数，获取解析数据。"
   ]
  },
  {
   "cell_type": "code",
   "execution_count": 2,
   "id": "5a7879af",
   "metadata": {},
   "outputs": [
    {
     "name": "stderr",
     "output_type": "stream",
     "text": [
      "[2025-09-01 21:42:35 - <frozen onekey_algo.custom.Manager>: 151]\tINFO\t播放视频功能已经设置成：Disable！\n"
     ]
    }
   ],
   "source": [
    "# 数据检验视频\n",
    "onekey_show('传统组学任务|数据检验')"
   ]
  },
  {
   "cell_type": "markdown",
   "id": "6e7bdf17",
   "metadata": {},
   "source": [
    "### 指定数据\n",
    "\n",
    "此模块有3个需要自己定义的参数\n",
    "\n",
    "1. `mydir`: 数据存放的路径。\n",
    "2. `labelf`: 每个样本的标注信息文件。\n",
    "3. `labels`: 要让AI系统学习的目标，例如肿瘤的良恶性、T-stage等。\n",
    "\n",
    "### 多模态设置\n",
    "\n",
    "这个地方可以指定多模态类型，每种模态一个文件夹，每个文件夹里面同样包括images, masks文件夹。例如包括CT、DWI两个模态。\n",
    "\n",
    "```python\n",
    "modals = get_param_in_cwd('radio_dir') or ['CT', 'DWI']\n",
    "```"
   ]
  },
  {
   "cell_type": "code",
   "execution_count": 3,
   "id": "e3ddc852",
   "metadata": {},
   "outputs": [],
   "source": [
    "import os\n",
    "from IPython.display import display\n",
    "os.environ['KMP_DUPLICATE_LIB_OK'] = 'TRUE'\n",
    "from onekey_algo import OnekeyDS as okds\n",
    "from onekey_algo import get_param_in_cwd\n",
    "\n",
    "os.makedirs('img', exist_ok=True)\n",
    "os.makedirs('results', exist_ok=True)\n",
    "os.makedirs('features', exist_ok=True)\n",
    "\n",
    "task_type = 'Radiomics_'\n",
    "# 设置数据目录\n",
    "mydir = get_param_in_cwd('radio_dir')\n",
    "if mydir == okds.ct:\n",
    "    print(f'正在使用Onekey数据：{okds.ct}，如果不符合预期，请修改目录位置！')\n",
    "# 对应的标签文件\n",
    "# labelf = r'你自己标注数据的文件地址'\n",
    "labelf = get_param_in_cwd('label_file')\n",
    "# 读取标签数据列名\n",
    "labels = [get_param_in_cwd('task_column') or 'label']\n",
    "# 获取分组列名\n",
    "group_info = get_param_in_cwd('dataset_column')"
   ]
  },
  {
   "cell_type": "markdown",
   "id": "a1309e89",
   "metadata": {},
   "source": [
    "### images和masks匹配\n",
    "\n",
    "这里要求images和masks文件夹中的文件名必须一一对应。e.g. `1.nii.gz`为images中的一个文件，在masks文件夹必须也存在一个`1.nii.gz`文件。\n",
    "\n",
    "当然也可以使用自定义的函数，获取解析数据。"
   ]
  },
  {
   "cell_type": "code",
   "execution_count": 4,
   "id": "6a4cbe42",
   "metadata": {},
   "outputs": [
    {
     "name": "stdout",
     "output_type": "stream",
     "text": [
      "获取到231个样本。\n"
     ]
    }
   ],
   "source": [
    "from pathlib import Path\n",
    "from onekey_algo.custom.components.Radiology import diagnose_3d_image_mask_settings, get_image_mask_from_dir\n",
    "\n",
    "# 生成images和masks对，一对一的关系。也可以自定义替换。\n",
    "images, masks = get_image_mask_from_dir(os.path.join(mydir), images='images', masks='masks')\n",
    "# diagnose_3d_image_mask_settings(images, masks)\n",
    "print(f'获取到{len(images)}个样本。')"
   ]
  },
  {
   "cell_type": "markdown",
   "id": "e28d5875",
   "metadata": {},
   "source": [
    "# 传统组学特征\n",
    "\n",
    "使用pyradiomics提取传统组学特征，正常这块不需要修改，下面是具体的Onekey封装的接口。\n",
    "\n",
    "```python\n",
    "def extract(self, images: Union[str, List[str]], \n",
    "            masks: Union[str, List[str]], labels: Union[int, List[int]] = 1, settings=None)\n",
    "\"\"\"\n",
    "    * images: List结构，待提取的图像列表。\n",
    "    * masks: List结构，待提取的图像对应的mask，与Images必须一一对应。\n",
    "    * labels: 提取标注为什么标签的特征。默认为提取label=1的。\n",
    "    * settings: 其他提取特征的参数。默认为None。\n",
    "\n",
    "\"\"\"\n",
    "```\n",
    "\n",
    "```python\n",
    "def get_label_data_frame(self, label: int = 1, column_names=None, images='images', masks='labels')\n",
    "\"\"\"\n",
    "    * label: 获取对应label的特征。\n",
    "    * columns_names: 默认为None，使用程序设定的列名即可。\n",
    "\"\"\"\n",
    "```\n",
    "    \n",
    "```python\n",
    "def get_image_mask_from_dir(root, images='images', masks='labels')\n",
    "\"\"\"\n",
    "    * root: 待提取特征的目录。\n",
    "    * images: root目录中原始数据的文件夹名。\n",
    "    * masks: root目录中标注数据的文件夹名。\n",
    "\"\"\"\n",
    "```\n"
   ]
  },
  {
   "cell_type": "code",
   "execution_count": 5,
   "id": "012af0cb",
   "metadata": {},
   "outputs": [
    {
     "name": "stderr",
     "output_type": "stream",
     "text": [
      "[2025-09-01 21:42:35 - <frozen onekey_algo.custom.Manager>: 151]\tINFO\t播放视频功能已经设置成：Disable！\n"
     ]
    }
   ],
   "source": [
    "# 特征提取视频\n",
    "onekey_show('传统组学任务|特征提取')"
   ]
  },
  {
   "cell_type": "code",
   "execution_count": 6,
   "id": "79b88fd9",
   "metadata": {},
   "outputs": [
    {
     "data": {
      "text/html": [
       "<div>\n",
       "<style scoped>\n",
       "    .dataframe tbody tr th:only-of-type {\n",
       "        vertical-align: middle;\n",
       "    }\n",
       "\n",
       "    .dataframe tbody tr th {\n",
       "        vertical-align: top;\n",
       "    }\n",
       "\n",
       "    .dataframe thead th {\n",
       "        text-align: right;\n",
       "    }\n",
       "</style>\n",
       "<table border=\"1\" class=\"dataframe\">\n",
       "  <thead>\n",
       "    <tr style=\"text-align: right;\">\n",
       "      <th></th>\n",
       "      <th>ID</th>\n",
       "      <th>DTL_1</th>\n",
       "      <th>DTL_2</th>\n",
       "      <th>DTL_3</th>\n",
       "      <th>DTL_4</th>\n",
       "      <th>DTL_5</th>\n",
       "      <th>DTL_6</th>\n",
       "      <th>DTL_7</th>\n",
       "      <th>DTL_8</th>\n",
       "      <th>DTL_9</th>\n",
       "      <th>...</th>\n",
       "      <th>DTL_2039</th>\n",
       "      <th>DTL_2040</th>\n",
       "      <th>DTL_2041</th>\n",
       "      <th>DTL_2042</th>\n",
       "      <th>DTL_2043</th>\n",
       "      <th>DTL_2044</th>\n",
       "      <th>DTL_2045</th>\n",
       "      <th>DTL_2046</th>\n",
       "      <th>DTL_2047</th>\n",
       "      <th>DTL_2048</th>\n",
       "    </tr>\n",
       "  </thead>\n",
       "  <tbody>\n",
       "    <tr>\n",
       "      <th>0</th>\n",
       "      <td>100sjmE.nii.gz</td>\n",
       "      <td>0.620</td>\n",
       "      <td>0.760</td>\n",
       "      <td>0.742</td>\n",
       "      <td>0.469</td>\n",
       "      <td>0.737</td>\n",
       "      <td>1.885</td>\n",
       "      <td>0.239</td>\n",
       "      <td>0.340</td>\n",
       "      <td>0.245</td>\n",
       "      <td>...</td>\n",
       "      <td>0.234</td>\n",
       "      <td>0.323</td>\n",
       "      <td>0.662</td>\n",
       "      <td>0.487</td>\n",
       "      <td>0.061</td>\n",
       "      <td>0.175</td>\n",
       "      <td>0.927</td>\n",
       "      <td>0.707</td>\n",
       "      <td>0.205</td>\n",
       "      <td>0.486</td>\n",
       "    </tr>\n",
       "    <tr>\n",
       "      <th>1</th>\n",
       "      <td>101crfE.nii.gz</td>\n",
       "      <td>0.539</td>\n",
       "      <td>0.871</td>\n",
       "      <td>0.834</td>\n",
       "      <td>0.508</td>\n",
       "      <td>0.396</td>\n",
       "      <td>0.348</td>\n",
       "      <td>0.280</td>\n",
       "      <td>0.293</td>\n",
       "      <td>0.529</td>\n",
       "      <td>...</td>\n",
       "      <td>0.205</td>\n",
       "      <td>0.424</td>\n",
       "      <td>0.773</td>\n",
       "      <td>0.224</td>\n",
       "      <td>0.519</td>\n",
       "      <td>0.146</td>\n",
       "      <td>1.235</td>\n",
       "      <td>0.596</td>\n",
       "      <td>0.672</td>\n",
       "      <td>0.529</td>\n",
       "    </tr>\n",
       "    <tr>\n",
       "      <th>2</th>\n",
       "      <td>102lfE.nii.gz</td>\n",
       "      <td>0.956</td>\n",
       "      <td>0.346</td>\n",
       "      <td>0.346</td>\n",
       "      <td>0.715</td>\n",
       "      <td>0.343</td>\n",
       "      <td>0.264</td>\n",
       "      <td>0.300</td>\n",
       "      <td>0.140</td>\n",
       "      <td>0.348</td>\n",
       "      <td>...</td>\n",
       "      <td>0.433</td>\n",
       "      <td>0.219</td>\n",
       "      <td>0.618</td>\n",
       "      <td>0.505</td>\n",
       "      <td>0.731</td>\n",
       "      <td>0.136</td>\n",
       "      <td>0.469</td>\n",
       "      <td>0.443</td>\n",
       "      <td>0.147</td>\n",
       "      <td>0.091</td>\n",
       "    </tr>\n",
       "    <tr>\n",
       "      <th>3</th>\n",
       "      <td>103cyyE.nii.gz</td>\n",
       "      <td>0.796</td>\n",
       "      <td>0.788</td>\n",
       "      <td>0.723</td>\n",
       "      <td>0.122</td>\n",
       "      <td>0.384</td>\n",
       "      <td>0.361</td>\n",
       "      <td>0.298</td>\n",
       "      <td>1.449</td>\n",
       "      <td>0.639</td>\n",
       "      <td>...</td>\n",
       "      <td>1.135</td>\n",
       "      <td>0.476</td>\n",
       "      <td>1.126</td>\n",
       "      <td>0.555</td>\n",
       "      <td>0.221</td>\n",
       "      <td>0.086</td>\n",
       "      <td>1.487</td>\n",
       "      <td>0.159</td>\n",
       "      <td>0.399</td>\n",
       "      <td>0.505</td>\n",
       "    </tr>\n",
       "    <tr>\n",
       "      <th>4</th>\n",
       "      <td>104lsqE.nii.gz</td>\n",
       "      <td>0.945</td>\n",
       "      <td>0.529</td>\n",
       "      <td>0.810</td>\n",
       "      <td>1.012</td>\n",
       "      <td>0.443</td>\n",
       "      <td>0.346</td>\n",
       "      <td>0.623</td>\n",
       "      <td>0.169</td>\n",
       "      <td>0.220</td>\n",
       "      <td>...</td>\n",
       "      <td>0.051</td>\n",
       "      <td>0.659</td>\n",
       "      <td>0.265</td>\n",
       "      <td>0.308</td>\n",
       "      <td>0.669</td>\n",
       "      <td>0.298</td>\n",
       "      <td>1.052</td>\n",
       "      <td>0.053</td>\n",
       "      <td>0.231</td>\n",
       "      <td>0.808</td>\n",
       "    </tr>\n",
       "    <tr>\n",
       "      <th>...</th>\n",
       "      <td>...</td>\n",
       "      <td>...</td>\n",
       "      <td>...</td>\n",
       "      <td>...</td>\n",
       "      <td>...</td>\n",
       "      <td>...</td>\n",
       "      <td>...</td>\n",
       "      <td>...</td>\n",
       "      <td>...</td>\n",
       "      <td>...</td>\n",
       "      <td>...</td>\n",
       "      <td>...</td>\n",
       "      <td>...</td>\n",
       "      <td>...</td>\n",
       "      <td>...</td>\n",
       "      <td>...</td>\n",
       "      <td>...</td>\n",
       "      <td>...</td>\n",
       "      <td>...</td>\n",
       "      <td>...</td>\n",
       "      <td>...</td>\n",
       "    </tr>\n",
       "    <tr>\n",
       "      <th>226</th>\n",
       "      <td>96fplE.nii.gz</td>\n",
       "      <td>0.164</td>\n",
       "      <td>0.459</td>\n",
       "      <td>0.040</td>\n",
       "      <td>0.263</td>\n",
       "      <td>0.209</td>\n",
       "      <td>0.252</td>\n",
       "      <td>0.473</td>\n",
       "      <td>0.203</td>\n",
       "      <td>0.124</td>\n",
       "      <td>...</td>\n",
       "      <td>0.359</td>\n",
       "      <td>0.044</td>\n",
       "      <td>0.134</td>\n",
       "      <td>0.191</td>\n",
       "      <td>0.176</td>\n",
       "      <td>0.125</td>\n",
       "      <td>0.196</td>\n",
       "      <td>0.111</td>\n",
       "      <td>0.216</td>\n",
       "      <td>0.235</td>\n",
       "    </tr>\n",
       "    <tr>\n",
       "      <th>227</th>\n",
       "      <td>97lgmE.nii.gz</td>\n",
       "      <td>0.133</td>\n",
       "      <td>0.459</td>\n",
       "      <td>0.493</td>\n",
       "      <td>0.337</td>\n",
       "      <td>0.199</td>\n",
       "      <td>0.685</td>\n",
       "      <td>0.422</td>\n",
       "      <td>0.396</td>\n",
       "      <td>0.253</td>\n",
       "      <td>...</td>\n",
       "      <td>0.396</td>\n",
       "      <td>0.756</td>\n",
       "      <td>0.091</td>\n",
       "      <td>0.049</td>\n",
       "      <td>0.155</td>\n",
       "      <td>0.018</td>\n",
       "      <td>0.335</td>\n",
       "      <td>0.541</td>\n",
       "      <td>0.219</td>\n",
       "      <td>0.207</td>\n",
       "    </tr>\n",
       "    <tr>\n",
       "      <th>228</th>\n",
       "      <td>98cxxE.nii.gz</td>\n",
       "      <td>0.370</td>\n",
       "      <td>0.899</td>\n",
       "      <td>0.904</td>\n",
       "      <td>0.111</td>\n",
       "      <td>0.370</td>\n",
       "      <td>0.569</td>\n",
       "      <td>0.768</td>\n",
       "      <td>0.624</td>\n",
       "      <td>0.174</td>\n",
       "      <td>...</td>\n",
       "      <td>0.727</td>\n",
       "      <td>0.386</td>\n",
       "      <td>0.523</td>\n",
       "      <td>0.395</td>\n",
       "      <td>0.457</td>\n",
       "      <td>0.180</td>\n",
       "      <td>0.522</td>\n",
       "      <td>0.616</td>\n",
       "      <td>0.259</td>\n",
       "      <td>0.668</td>\n",
       "    </tr>\n",
       "    <tr>\n",
       "      <th>229</th>\n",
       "      <td>99xbE.nii.gz</td>\n",
       "      <td>0.893</td>\n",
       "      <td>1.032</td>\n",
       "      <td>1.225</td>\n",
       "      <td>0.195</td>\n",
       "      <td>0.312</td>\n",
       "      <td>1.604</td>\n",
       "      <td>0.089</td>\n",
       "      <td>1.010</td>\n",
       "      <td>1.040</td>\n",
       "      <td>...</td>\n",
       "      <td>1.070</td>\n",
       "      <td>0.276</td>\n",
       "      <td>0.406</td>\n",
       "      <td>0.505</td>\n",
       "      <td>0.503</td>\n",
       "      <td>0.125</td>\n",
       "      <td>0.693</td>\n",
       "      <td>0.199</td>\n",
       "      <td>0.438</td>\n",
       "      <td>0.212</td>\n",
       "    </tr>\n",
       "    <tr>\n",
       "      <th>230</th>\n",
       "      <td>9mzyE.nii.gz</td>\n",
       "      <td>0.434</td>\n",
       "      <td>0.678</td>\n",
       "      <td>0.959</td>\n",
       "      <td>0.113</td>\n",
       "      <td>0.350</td>\n",
       "      <td>0.942</td>\n",
       "      <td>0.441</td>\n",
       "      <td>0.610</td>\n",
       "      <td>0.710</td>\n",
       "      <td>...</td>\n",
       "      <td>0.597</td>\n",
       "      <td>0.457</td>\n",
       "      <td>0.519</td>\n",
       "      <td>0.518</td>\n",
       "      <td>0.533</td>\n",
       "      <td>0.773</td>\n",
       "      <td>0.520</td>\n",
       "      <td>0.475</td>\n",
       "      <td>0.637</td>\n",
       "      <td>0.247</td>\n",
       "    </tr>\n",
       "  </tbody>\n",
       "</table>\n",
       "<p>231 rows × 2049 columns</p>\n",
       "</div>"
      ],
      "text/plain": [
       "                 ID  DTL_1  DTL_2  DTL_3  DTL_4  DTL_5  DTL_6  DTL_7  DTL_8  \\\n",
       "0    100sjmE.nii.gz  0.620  0.760  0.742  0.469  0.737  1.885  0.239  0.340   \n",
       "1    101crfE.nii.gz  0.539  0.871  0.834  0.508  0.396  0.348  0.280  0.293   \n",
       "2     102lfE.nii.gz  0.956  0.346  0.346  0.715  0.343  0.264  0.300  0.140   \n",
       "3    103cyyE.nii.gz  0.796  0.788  0.723  0.122  0.384  0.361  0.298  1.449   \n",
       "4    104lsqE.nii.gz  0.945  0.529  0.810  1.012  0.443  0.346  0.623  0.169   \n",
       "..              ...    ...    ...    ...    ...    ...    ...    ...    ...   \n",
       "226   96fplE.nii.gz  0.164  0.459  0.040  0.263  0.209  0.252  0.473  0.203   \n",
       "227   97lgmE.nii.gz  0.133  0.459  0.493  0.337  0.199  0.685  0.422  0.396   \n",
       "228   98cxxE.nii.gz  0.370  0.899  0.904  0.111  0.370  0.569  0.768  0.624   \n",
       "229    99xbE.nii.gz  0.893  1.032  1.225  0.195  0.312  1.604  0.089  1.010   \n",
       "230    9mzyE.nii.gz  0.434  0.678  0.959  0.113  0.350  0.942  0.441  0.610   \n",
       "\n",
       "     DTL_9  ...  DTL_2039  DTL_2040  DTL_2041  DTL_2042  DTL_2043  DTL_2044  \\\n",
       "0    0.245  ...     0.234     0.323     0.662     0.487     0.061     0.175   \n",
       "1    0.529  ...     0.205     0.424     0.773     0.224     0.519     0.146   \n",
       "2    0.348  ...     0.433     0.219     0.618     0.505     0.731     0.136   \n",
       "3    0.639  ...     1.135     0.476     1.126     0.555     0.221     0.086   \n",
       "4    0.220  ...     0.051     0.659     0.265     0.308     0.669     0.298   \n",
       "..     ...  ...       ...       ...       ...       ...       ...       ...   \n",
       "226  0.124  ...     0.359     0.044     0.134     0.191     0.176     0.125   \n",
       "227  0.253  ...     0.396     0.756     0.091     0.049     0.155     0.018   \n",
       "228  0.174  ...     0.727     0.386     0.523     0.395     0.457     0.180   \n",
       "229  1.040  ...     1.070     0.276     0.406     0.505     0.503     0.125   \n",
       "230  0.710  ...     0.597     0.457     0.519     0.518     0.533     0.773   \n",
       "\n",
       "     DTL_2045  DTL_2046  DTL_2047  DTL_2048  \n",
       "0       0.927     0.707     0.205     0.486  \n",
       "1       1.235     0.596     0.672     0.529  \n",
       "2       0.469     0.443     0.147     0.091  \n",
       "3       1.487     0.159     0.399     0.505  \n",
       "4       1.052     0.053     0.231     0.808  \n",
       "..        ...       ...       ...       ...  \n",
       "226     0.196     0.111     0.216     0.235  \n",
       "227     0.335     0.541     0.219     0.207  \n",
       "228     0.522     0.616     0.259     0.668  \n",
       "229     0.693     0.199     0.438     0.212  \n",
       "230     0.520     0.475     0.637     0.247  \n",
       "\n",
       "[231 rows x 2049 columns]"
      ]
     },
     "execution_count": 6,
     "metadata": {},
     "output_type": "execute_result"
    }
   ],
   "source": [
    "import warnings\n",
    "import pandas as pd\n",
    " \n",
    "warnings.filterwarnings(\"ignore\")\n",
    "\n",
    "from onekey_algo.custom.components.Radiology import ConventionalRadiomics\n",
    "\n",
    "rad_ = None\n",
    "param_file = get_param_in_cwd('extractor_settings')\n",
    "\n",
    "if os.path.exists(f'features/rad_features.csv'):\n",
    "    rad_data = pd.read_csv(f'features/rad_features.csv', header=0)\n",
    "else:\n",
    "    images, masks = get_image_mask_from_dir(os.path.join(mydir), images='images', masks='masks')\n",
    "    radiomics = ConventionalRadiomics(param_file, correctMask=True)\n",
    "    radiomics.extract(images, masks, workers=1, labels=1,  \n",
    "                      with_top=get_param_in_cwd('with_fd', False),\n",
    "                      with_fd=get_param_in_cwd('with_toplogy', False), \n",
    "                      with_hessian=get_param_in_cwd('with_hessian', False))\n",
    "    rad_data = radiomics.get_label_data_frame(label=1)\n",
    "    rad_data.columns = [f\"{c.replace('-', '_')}\" if c != 'ID' else 'ID' for c in rad_data.columns]\n",
    "    rad_data.to_csv(f'features/rad_features.csv', header=True, index=False)\n",
    "if rad_ is None:\n",
    "    rad_ = rad_data\n",
    "else:\n",
    "    rad_ = pd.merge(rad_, rad_data, on='ID', how='inner')\n",
    "rad_data = rad_\n",
    "rad_data"
   ]
  },
  {
   "cell_type": "markdown",
   "id": "6b879ae0",
   "metadata": {},
   "source": [
    "## 特征统计"
   ]
  },
  {
   "cell_type": "code",
   "execution_count": 7,
   "id": "8be097e1",
   "metadata": {
    "scrolled": true
   },
   "outputs": [
    {
     "data": {
      "text/html": [
       "<div>\n",
       "<style scoped>\n",
       "    .dataframe tbody tr th:only-of-type {\n",
       "        vertical-align: middle;\n",
       "    }\n",
       "\n",
       "    .dataframe tbody tr th {\n",
       "        vertical-align: top;\n",
       "    }\n",
       "\n",
       "    .dataframe thead th {\n",
       "        text-align: right;\n",
       "    }\n",
       "</style>\n",
       "<table border=\"1\" class=\"dataframe\">\n",
       "  <thead>\n",
       "    <tr style=\"text-align: right;\">\n",
       "      <th></th>\n",
       "      <th>0</th>\n",
       "      <th>count</th>\n",
       "    </tr>\n",
       "  </thead>\n",
       "  <tbody>\n",
       "    <tr>\n",
       "      <th>0</th>\n",
       "      <td>DTL</td>\n",
       "      <td>2048</td>\n",
       "    </tr>\n",
       "  </tbody>\n",
       "</table>\n",
       "</div>"
      ],
      "text/plain": [
       "     0  count\n",
       "0  DTL   2048"
      ]
     },
     "metadata": {},
     "output_type": "display_data"
    },
    {
     "data": {
      "image/png": "[encoded data removed]",
      "text/plain": [
       "<Figure size 3000x2400 with 1 Axes>"
      ]
     },
     "metadata": {},
     "output_type": "display_data"
    }
   ],
   "source": [
    "import matplotlib.pyplot as plt\n",
    "sorted_counts = pd.DataFrame([c.split('_')[-2] for c in rad_data.columns if c !='ID']).value_counts()\n",
    "sorted_counts = pd.DataFrame(sorted_counts, columns=['count']).reset_index()\n",
    "sorted_counts = sorted_counts.sort_values(0)\n",
    "display(sorted_counts)\n",
    "plt.pie(sorted_counts['count'], labels=[i for i in sorted_counts[0]], startangle=0,\n",
    "        counterclock = False, autopct = '%.1f%%')\n",
    "plt.savefig(f'img/{task_type}feature_ratio.svg', bbox_inches = 'tight')"
   ]
  },
  {
   "cell_type": "markdown",
   "id": "59e2b71c",
   "metadata": {},
   "source": [
    "## 标注数据\n",
    "\n",
    "数据以csv格式进行存储，这里如果是其他格式，可以使用自定义函数读取出每个样本的结果。\n",
    "\n",
    "要求label_data为一个`DataFrame`格式，包括ID列以及后续的labels列，可以是多列，支持Multi-Task。"
   ]
  },
  {
   "cell_type": "code",
   "execution_count": 8,
   "id": "6503b076",
   "metadata": {},
   "outputs": [
    {
     "ename": "FileNotFoundError",
     "evalue": "[Errno 2] No such file or directory: 'D:\\\\\\\\onekey\\\\\\\\onekey_comp\\\\\\\\comp9-Solutions\\\\\\\\sol5. 深度（迁移）学习-单（多）中心\\\\\\\\split_info.csv'",
     "output_type": "error",
     "traceback": [
      "\u001b[1;31m---------------------------------------------------------------------------\u001b[0m",
      "\u001b[1;31mFileNotFoundError\u001b[0m                         Traceback (most recent call last)",
      "\u001b[1;32m~\\AppData\\Local\\Temp\\ipykernel_10296\\3099873285.py\u001b[0m in \u001b[0;36m<module>\u001b[1;34m\u001b[0m\n\u001b[1;32m----> 1\u001b[1;33m \u001b[0mlabel_data\u001b[0m \u001b[1;33m=\u001b[0m \u001b[0mpd\u001b[0m\u001b[1;33m.\u001b[0m\u001b[0mread_csv\u001b[0m\u001b[1;33m(\u001b[0m\u001b[0mlabelf\u001b[0m\u001b[1;33m)\u001b[0m\u001b[1;33m\u001b[0m\u001b[1;33m\u001b[0m\u001b[0m\n\u001b[0m\u001b[0;32m      2\u001b[0m \u001b[0mlabel_data\u001b[0m\u001b[1;33m[\u001b[0m\u001b[1;34m'ID'\u001b[0m\u001b[1;33m]\u001b[0m \u001b[1;33m=\u001b[0m \u001b[0mlabel_data\u001b[0m\u001b[1;33m[\u001b[0m\u001b[1;34m'ID'\u001b[0m\u001b[1;33m]\u001b[0m\u001b[1;33m.\u001b[0m\u001b[0mmap\u001b[0m\u001b[1;33m(\u001b[0m\u001b[1;32mlambda\u001b[0m \u001b[0mx\u001b[0m\u001b[1;33m:\u001b[0m \u001b[1;34mf\"{x}.nii.gz\"\u001b[0m \u001b[1;32mif\u001b[0m \u001b[1;32mnot\u001b[0m \u001b[1;33m(\u001b[0m\u001b[1;34mf\"{x}\"\u001b[0m\u001b[1;33m.\u001b[0m\u001b[0mendswith\u001b[0m\u001b[1;33m(\u001b[0m\u001b[1;34m'.nii.gz'\u001b[0m\u001b[1;33m)\u001b[0m \u001b[1;32mor\u001b[0m  \u001b[1;34mf\"{x}\"\u001b[0m\u001b[1;33m.\u001b[0m\u001b[0mendswith\u001b[0m\u001b[1;33m(\u001b[0m\u001b[1;34m'.nii'\u001b[0m\u001b[1;33m)\u001b[0m\u001b[1;33m)\u001b[0m \u001b[1;32melse\u001b[0m \u001b[0mx\u001b[0m\u001b[1;33m)\u001b[0m\u001b[1;33m\u001b[0m\u001b[1;33m\u001b[0m\u001b[0m\n\u001b[0;32m      3\u001b[0m \u001b[0mlabel_data\u001b[0m\u001b[1;33m\u001b[0m\u001b[1;33m\u001b[0m\u001b[0m\n",
      "\u001b[1;32mD:\\onekey\\onekey_envs\\lib\\site-packages\\pandas\\util\\_decorators.py\u001b[0m in \u001b[0;36mwrapper\u001b[1;34m(*args, **kwargs)\u001b[0m\n\u001b[0;32m    309\u001b[0m                     \u001b[0mstacklevel\u001b[0m\u001b[1;33m=\u001b[0m\u001b[0mstacklevel\u001b[0m\u001b[1;33m,\u001b[0m\u001b[1;33m\u001b[0m\u001b[1;33m\u001b[0m\u001b[0m\n\u001b[0;32m    310\u001b[0m                 )\n\u001b[1;32m--> 311\u001b[1;33m             \u001b[1;32mreturn\u001b[0m \u001b[0mfunc\u001b[0m\u001b[1;33m(\u001b[0m\u001b[1;33m*\u001b[0m\u001b[0margs\u001b[0m\u001b[1;33m,\u001b[0m \u001b[1;33m**\u001b[0m\u001b[0mkwargs\u001b[0m\u001b[1;33m)\u001b[0m\u001b[1;33m\u001b[0m\u001b[1;33m\u001b[0m\u001b[0m\n\u001b[0m\u001b[0;32m    312\u001b[0m \u001b[1;33m\u001b[0m\u001b[0m\n\u001b[0;32m    313\u001b[0m         \u001b[1;32mreturn\u001b[0m \u001b[0mwrapper\u001b[0m\u001b[1;33m\u001b[0m\u001b[1;33m\u001b[0m\u001b[0m\n",
      "\u001b[1;32mD:\\onekey\\onekey_envs\\lib\\site-packages\\pandas\\io\\parsers\\readers.py\u001b[0m in \u001b[0;36mread_csv\u001b[1;34m(filepath_or_buffer, sep, delimiter, header, names, index_col, usecols, squeeze, prefix, mangle_dupe_cols, dtype, engine, converters, true_values, false_values, skipinitialspace, skiprows, skipfooter, nrows, na_values, keep_default_na, na_filter, verbose, skip_blank_lines, parse_dates, infer_datetime_format, keep_date_col, date_parser, dayfirst, cache_dates, iterator, chunksize, compression, thousands, decimal, lineterminator, quotechar, quoting, doublequote, escapechar, comment, encoding, encoding_errors, dialect, error_bad_lines, warn_bad_lines, on_bad_lines, delim_whitespace, low_memory, memory_map, float_precision, storage_options)\u001b[0m\n\u001b[0;32m    584\u001b[0m     \u001b[0mkwds\u001b[0m\u001b[1;33m.\u001b[0m\u001b[0mupdate\u001b[0m\u001b[1;33m(\u001b[0m\u001b[0mkwds_defaults\u001b[0m\u001b[1;33m)\u001b[0m\u001b[1;33m\u001b[0m\u001b[1;33m\u001b[0m\u001b[0m\n\u001b[0;32m    585\u001b[0m \u001b[1;33m\u001b[0m\u001b[0m\n\u001b[1;32m--> 586\u001b[1;33m     \u001b[1;32mreturn\u001b[0m \u001b[0m_read\u001b[0m\u001b[1;33m(\u001b[0m\u001b[0mfilepath_or_buffer\u001b[0m\u001b[1;33m,\u001b[0m \u001b[0mkwds\u001b[0m\u001b[1;33m)\u001b[0m\u001b[1;33m\u001b[0m\u001b[1;33m\u001b[0m\u001b[0m\n\u001b[0m\u001b[0;32m    587\u001b[0m \u001b[1;33m\u001b[0m\u001b[0m\n\u001b[0;32m    588\u001b[0m \u001b[1;33m\u001b[0m\u001b[0m\n",
      "\u001b[1;32mD:\\onekey\\onekey_envs\\lib\\site-packages\\pandas\\io\\parsers\\readers.py\u001b[0m in \u001b[0;36m_read\u001b[1;34m(filepath_or_buffer, kwds)\u001b[0m\n\u001b[0;32m    480\u001b[0m \u001b[1;33m\u001b[0m\u001b[0m\n\u001b[0;32m    481\u001b[0m     \u001b[1;31m# Create the parser.\u001b[0m\u001b[1;33m\u001b[0m\u001b[1;33m\u001b[0m\u001b[1;33m\u001b[0m\u001b[0m\n\u001b[1;32m--> 482\u001b[1;33m     \u001b[0mparser\u001b[0m \u001b[1;33m=\u001b[0m \u001b[0mTextFileReader\u001b[0m\u001b[1;33m(\u001b[0m\u001b[0mfilepath_or_buffer\u001b[0m\u001b[1;33m,\u001b[0m \u001b[1;33m**\u001b[0m\u001b[0mkwds\u001b[0m\u001b[1;33m)\u001b[0m\u001b[1;33m\u001b[0m\u001b[1;33m\u001b[0m\u001b[0m\n\u001b[0m\u001b[0;32m    483\u001b[0m \u001b[1;33m\u001b[0m\u001b[0m\n\u001b[0;32m    484\u001b[0m     \u001b[1;32mif\u001b[0m \u001b[0mchunksize\u001b[0m \u001b[1;32mor\u001b[0m \u001b[0miterator\u001b[0m\u001b[1;33m:\u001b[0m\u001b[1;33m\u001b[0m\u001b[1;33m\u001b[0m\u001b[0m\n",
      "\u001b[1;32mD:\\onekey\\onekey_envs\\lib\\site-packages\\pandas\\io\\parsers\\readers.py\u001b[0m in \u001b[0;36m__init__\u001b[1;34m(self, f, engine, **kwds)\u001b[0m\n\u001b[0;32m    809\u001b[0m             \u001b[0mself\u001b[0m\u001b[1;33m.\u001b[0m\u001b[0moptions\u001b[0m\u001b[1;33m[\u001b[0m\u001b[1;34m\"has_index_names\"\u001b[0m\u001b[1;33m]\u001b[0m \u001b[1;33m=\u001b[0m \u001b[0mkwds\u001b[0m\u001b[1;33m[\u001b[0m\u001b[1;34m\"has_index_names\"\u001b[0m\u001b[1;33m]\u001b[0m\u001b[1;33m\u001b[0m\u001b[1;33m\u001b[0m\u001b[0m\n\u001b[0;32m    810\u001b[0m \u001b[1;33m\u001b[0m\u001b[0m\n\u001b[1;32m--> 811\u001b[1;33m         \u001b[0mself\u001b[0m\u001b[1;33m.\u001b[0m\u001b[0m_engine\u001b[0m \u001b[1;33m=\u001b[0m \u001b[0mself\u001b[0m\u001b[1;33m.\u001b[0m\u001b[0m_make_engine\u001b[0m\u001b[1;33m(\u001b[0m\u001b[0mself\u001b[0m\u001b[1;33m.\u001b[0m\u001b[0mengine\u001b[0m\u001b[1;33m)\u001b[0m\u001b[1;33m\u001b[0m\u001b[1;33m\u001b[0m\u001b[0m\n\u001b[0m\u001b[0;32m    812\u001b[0m \u001b[1;33m\u001b[0m\u001b[0m\n\u001b[0;32m    813\u001b[0m     \u001b[1;32mdef\u001b[0m \u001b[0mclose\u001b[0m\u001b[1;33m(\u001b[0m\u001b[0mself\u001b[0m\u001b[1;33m)\u001b[0m\u001b[1;33m:\u001b[0m\u001b[1;33m\u001b[0m\u001b[1;33m\u001b[0m\u001b[0m\n",
      "\u001b[1;32mD:\\onekey\\onekey_envs\\lib\\site-packages\\pandas\\io\\parsers\\readers.py\u001b[0m in \u001b[0;36m_make_engine\u001b[1;34m(self, engine)\u001b[0m\n\u001b[0;32m   1038\u001b[0m             )\n\u001b[0;32m   1039\u001b[0m         \u001b[1;31m# error: Too many arguments for \"ParserBase\"\u001b[0m\u001b[1;33m\u001b[0m\u001b[1;33m\u001b[0m\u001b[1;33m\u001b[0m\u001b[0m\n\u001b[1;32m-> 1040\u001b[1;33m         \u001b[1;32mreturn\u001b[0m \u001b[0mmapping\u001b[0m\u001b[1;33m[\u001b[0m\u001b[0mengine\u001b[0m\u001b[1;33m]\u001b[0m\u001b[1;33m(\u001b[0m\u001b[0mself\u001b[0m\u001b[1;33m.\u001b[0m\u001b[0mf\u001b[0m\u001b[1;33m,\u001b[0m \u001b[1;33m**\u001b[0m\u001b[0mself\u001b[0m\u001b[1;33m.\u001b[0m\u001b[0moptions\u001b[0m\u001b[1;33m)\u001b[0m  \u001b[1;31m# type: ignore[call-arg]\u001b[0m\u001b[1;33m\u001b[0m\u001b[1;33m\u001b[0m\u001b[0m\n\u001b[0m\u001b[0;32m   1041\u001b[0m \u001b[1;33m\u001b[0m\u001b[0m\n\u001b[0;32m   1042\u001b[0m     \u001b[1;32mdef\u001b[0m \u001b[0m_failover_to_python\u001b[0m\u001b[1;33m(\u001b[0m\u001b[0mself\u001b[0m\u001b[1;33m)\u001b[0m\u001b[1;33m:\u001b[0m\u001b[1;33m\u001b[0m\u001b[1;33m\u001b[0m\u001b[0m\n",
      "\u001b[1;32mD:\\onekey\\onekey_envs\\lib\\site-packages\\pandas\\io\\parsers\\c_parser_wrapper.py\u001b[0m in \u001b[0;36m__init__\u001b[1;34m(self, src, **kwds)\u001b[0m\n\u001b[0;32m     49\u001b[0m \u001b[1;33m\u001b[0m\u001b[0m\n\u001b[0;32m     50\u001b[0m         \u001b[1;31m# open handles\u001b[0m\u001b[1;33m\u001b[0m\u001b[1;33m\u001b[0m\u001b[1;33m\u001b[0m\u001b[0m\n\u001b[1;32m---> 51\u001b[1;33m         \u001b[0mself\u001b[0m\u001b[1;33m.\u001b[0m\u001b[0m_open_handles\u001b[0m\u001b[1;33m(\u001b[0m\u001b[0msrc\u001b[0m\u001b[1;33m,\u001b[0m \u001b[0mkwds\u001b[0m\u001b[1;33m)\u001b[0m\u001b[1;33m\u001b[0m\u001b[1;33m\u001b[0m\u001b[0m\n\u001b[0m\u001b[0;32m     52\u001b[0m         \u001b[1;32massert\u001b[0m \u001b[0mself\u001b[0m\u001b[1;33m.\u001b[0m\u001b[0mhandles\u001b[0m \u001b[1;32mis\u001b[0m \u001b[1;32mnot\u001b[0m \u001b[1;32mNone\u001b[0m\u001b[1;33m\u001b[0m\u001b[1;33m\u001b[0m\u001b[0m\n\u001b[0;32m     53\u001b[0m \u001b[1;33m\u001b[0m\u001b[0m\n",
      "\u001b[1;32mD:\\onekey\\onekey_envs\\lib\\site-packages\\pandas\\io\\parsers\\base_parser.py\u001b[0m in \u001b[0;36m_open_handles\u001b[1;34m(self, src, kwds)\u001b[0m\n\u001b[0;32m    227\u001b[0m             \u001b[0mmemory_map\u001b[0m\u001b[1;33m=\u001b[0m\u001b[0mkwds\u001b[0m\u001b[1;33m.\u001b[0m\u001b[0mget\u001b[0m\u001b[1;33m(\u001b[0m\u001b[1;34m\"memory_map\"\u001b[0m\u001b[1;33m,\u001b[0m \u001b[1;32mFalse\u001b[0m\u001b[1;33m)\u001b[0m\u001b[1;33m,\u001b[0m\u001b[1;33m\u001b[0m\u001b[1;33m\u001b[0m\u001b[0m\n\u001b[0;32m    228\u001b[0m             \u001b[0mstorage_options\u001b[0m\u001b[1;33m=\u001b[0m\u001b[0mkwds\u001b[0m\u001b[1;33m.\u001b[0m\u001b[0mget\u001b[0m\u001b[1;33m(\u001b[0m\u001b[1;34m\"storage_options\"\u001b[0m\u001b[1;33m,\u001b[0m \u001b[1;32mNone\u001b[0m\u001b[1;33m)\u001b[0m\u001b[1;33m,\u001b[0m\u001b[1;33m\u001b[0m\u001b[1;33m\u001b[0m\u001b[0m\n\u001b[1;32m--> 229\u001b[1;33m             \u001b[0merrors\u001b[0m\u001b[1;33m=\u001b[0m\u001b[0mkwds\u001b[0m\u001b[1;33m.\u001b[0m\u001b[0mget\u001b[0m\u001b[1;33m(\u001b[0m\u001b[1;34m\"encoding_errors\"\u001b[0m\u001b[1;33m,\u001b[0m \u001b[1;34m\"strict\"\u001b[0m\u001b[1;33m)\u001b[0m\u001b[1;33m,\u001b[0m\u001b[1;33m\u001b[0m\u001b[1;33m\u001b[0m\u001b[0m\n\u001b[0m\u001b[0;32m    230\u001b[0m         )\n\u001b[0;32m    231\u001b[0m \u001b[1;33m\u001b[0m\u001b[0m\n",
      "\u001b[1;32mD:\\onekey\\onekey_envs\\lib\\site-packages\\pandas\\io\\common.py\u001b[0m in \u001b[0;36mget_handle\u001b[1;34m(path_or_buf, mode, encoding, compression, memory_map, is_text, errors, storage_options)\u001b[0m\n\u001b[0;32m    705\u001b[0m                 \u001b[0mencoding\u001b[0m\u001b[1;33m=\u001b[0m\u001b[0mioargs\u001b[0m\u001b[1;33m.\u001b[0m\u001b[0mencoding\u001b[0m\u001b[1;33m,\u001b[0m\u001b[1;33m\u001b[0m\u001b[1;33m\u001b[0m\u001b[0m\n\u001b[0;32m    706\u001b[0m                 \u001b[0merrors\u001b[0m\u001b[1;33m=\u001b[0m\u001b[0merrors\u001b[0m\u001b[1;33m,\u001b[0m\u001b[1;33m\u001b[0m\u001b[1;33m\u001b[0m\u001b[0m\n\u001b[1;32m--> 707\u001b[1;33m                 \u001b[0mnewline\u001b[0m\u001b[1;33m=\u001b[0m\u001b[1;34m\"\"\u001b[0m\u001b[1;33m,\u001b[0m\u001b[1;33m\u001b[0m\u001b[1;33m\u001b[0m\u001b[0m\n\u001b[0m\u001b[0;32m    708\u001b[0m             )\n\u001b[0;32m    709\u001b[0m         \u001b[1;32melse\u001b[0m\u001b[1;33m:\u001b[0m\u001b[1;33m\u001b[0m\u001b[1;33m\u001b[0m\u001b[0m\n",
      "\u001b[1;31mFileNotFoundError\u001b[0m: [Errno 2] No such file or directory: 'D:\\\\\\\\onekey\\\\\\\\onekey_comp\\\\\\\\comp9-Solutions\\\\\\\\sol5. 深度（迁移）学习-单（多）中心\\\\\\\\split_info.csv'"
     ]
    }
   ],
   "source": [
    "label_data = pd.read_csv(labelf)\n",
    "label_data['ID'] = label_data['ID'].map(lambda x: f\"{x}.nii.gz\" if not (f\"{x}\".endswith('.nii.gz') or  f\"{x}\".endswith('.nii')) else x)\n",
    "label_data"
   ]
  },
  {
   "cell_type": "markdown",
   "id": "fe37e701",
   "metadata": {},
   "source": [
    "## 特征拼接 \n",
    "\n",
    "将标注数据`label_data`与`rad_data`进行合并，得到训练数据。\n",
    "\n",
    "**注意：** \n",
    "1. 需要删掉ID这一列\n",
    "2. 如果发现数据少了，需要自行检查数据是否匹配。"
   ]
  },
  {
   "cell_type": "code",
   "execution_count": null,
   "id": "e1de1e4e",
   "metadata": {},
   "outputs": [],
   "source": [
    "from onekey_algo.custom.utils import print_join_info\n",
    "\n",
    "print_join_info(rad_data, label_data)\n",
    "combined_data = pd.merge(rad_data, label_data, on=['ID'], how='inner')\n",
    "ids = combined_data['ID']\n",
    "combined_data = combined_data.drop(['ID'], axis=1)\n",
    "print(combined_data[labels].value_counts())\n",
    "combined_data.columns"
   ]
  },
  {
   "cell_type": "markdown",
   "id": "2f8b1f6e",
   "metadata": {},
   "source": [
    "## 获取到数据的统计信息\n",
    "\n",
    "1. count，统计样本个数。\n",
    "2. mean、std, 对应特征的均值、方差\n",
    "3. min, 25%, 50%, 75%, max，对应特征的最小值，25,50,75分位数，最大值。"
   ]
  },
  {
   "cell_type": "code",
   "execution_count": null,
   "id": "fa5c306d",
   "metadata": {},
   "outputs": [],
   "source": [
    "combined_data.describe()"
   ]
  },
  {
   "cell_type": "markdown",
   "id": "f0a13a21",
   "metadata": {},
   "source": [
    "## Z-score\n",
    "\n",
    "`normalize_df` 为onekey中正则化的API，将数据变化到0均值1方差。正则化的方法为\n",
    "\n",
    "$column = \\frac{column - mean}{std}$"
   ]
  },
  {
   "cell_type": "code",
   "execution_count": null,
   "id": "33fe3d76",
   "metadata": {},
   "outputs": [],
   "source": [
    "from onekey_algo.custom.components.comp1 import normalize_df\n",
    "data = normalize_df(combined_data, not_norm=labels, group=group_info, use_train=True)\n",
    "data = data.dropna(axis=1)\n",
    "data.describe()"
   ]
  },
  {
   "cell_type": "markdown",
   "id": "28e2f7fe",
   "metadata": {},
   "source": [
    "## 统计检验\n",
    "\n",
    "通过ttest或者utest进行特征筛选。\n",
    "\n",
    "**注意** ：此步骤不是论文的标配，所以用不用在自己的选择，可以通过修改pvalue的值进行调整，默认是0.05为显著。"
   ]
  },
  {
   "cell_type": "code",
   "execution_count": null,
   "id": "20f0e44a",
   "metadata": {
    "scrolled": false
   },
   "outputs": [],
   "source": [
    "import seaborn as sns\n",
    "from onekey_algo.custom.components.stats import clinic_stats\n",
    "\n",
    "sub_data = data[data['group'] == 'train']\n",
    "stats = clinic_stats(sub_data, stats_columns=list(data.columns[0:-2]), label_column=labels[0], \n",
    "                     continuous_columns=list(data.columns[0:-2]), verbose=False)\n",
    "stats"
   ]
  },
  {
   "cell_type": "markdown",
   "id": "d6a54156",
   "metadata": {},
   "source": [
    "#### 输出特征分布的图"
   ]
  },
  {
   "cell_type": "code",
   "execution_count": null,
   "id": "6aaf8a94",
   "metadata": {},
   "outputs": [],
   "source": [
    "import matplotlib.pyplot as plt\n",
    "\n",
    "def map2float(x):\n",
    "    try:\n",
    "        return float(str(x)[1:])\n",
    "    except:\n",
    "        return 1\n",
    "\n",
    "stats[['pvalue']] = stats[['pvalue']].applymap(map2float)\n",
    "stats[['group']] = stats[['feature_name']].applymap(lambda x: x.split('_')[-2])\n",
    "stats = stats[['feature_name', 'pvalue', 'group']]\n",
    "g = sns.catplot(x=\"group\", y=\"pvalue\", data=stats, kind=\"violin\")\n",
    "g.fig.set_size_inches(15,10)\n",
    "sns.stripplot(x=\"group\", y=\"pvalue\", data=stats, ax=g.ax, color='black')\n",
    "plt.savefig(f'img/{task_type}feature_stats.svg', bbox_inches = 'tight')"
   ]
  },
  {
   "cell_type": "markdown",
   "id": "7bcbd31e",
   "metadata": {},
   "source": [
    "#### 调整pvalue进行筛选。"
   ]
  },
  {
   "cell_type": "code",
   "execution_count": null,
   "id": "eaab2864",
   "metadata": {},
   "outputs": [],
   "source": [
    "pvalue = get_param_in_cwd('p_value', 0.05)\n",
    "sel_feature = list(stats[stats['pvalue'] < pvalue]['feature_name']) + labels + [group_info]\n",
    "data = data[sel_feature]\n",
    "data"
   ]
  },
  {
   "cell_type": "markdown",
   "id": "cd361f98",
   "metadata": {},
   "source": [
    "### 相关系数\n",
    "\n",
    "计算相关系数的方法有3种可供选择\n",
    "1. pearson （皮尔逊相关系数）: standard correlation coefficient\n",
    "\n",
    "2. kendall (肯德尔相关性系数) : Kendall Tau correlation coefficient\n",
    "\n",
    "3. spearman (斯皮尔曼相关性系数): Spearman rank correlation\n",
    "\n",
    "三种相关系数参考：https://blog.csdn.net/zmqsdu9001/article/details/82840332"
   ]
  },
  {
   "cell_type": "code",
   "execution_count": null,
   "id": "77e30cf9",
   "metadata": {},
   "outputs": [],
   "source": [
    "# 相关系数视频\n",
    "onekey_show('传统组学任务|相关系数')"
   ]
  },
  {
   "cell_type": "code",
   "execution_count": null,
   "id": "979a9aeb",
   "metadata": {},
   "outputs": [],
   "source": [
    "pearson_corr = data[data['group'] == 'train'][[c for c in data.columns if c not in labels]].corr('pearson')\n",
    "# kendall_corr = data.corr('kendall')\n",
    "# spearman_corr = data.corr('spearman')"
   ]
  },
  {
   "cell_type": "markdown",
   "id": "e5f095c3",
   "metadata": {},
   "source": [
    "### 相关系数可视化\n",
    "\n",
    "通过修改变量名，可以可视化不同相关系数下的相关矩阵。\n",
    "\n",
    "**注意**：当特征特别多的时候（大于100），尽量不要可视化，否则运行时间会特别长。"
   ]
  },
  {
   "cell_type": "code",
   "execution_count": null,
   "id": "01558bec",
   "metadata": {},
   "outputs": [],
   "source": [
    "import seaborn as sns\n",
    "from onekey_algo.custom.components.comp1 import draw_matrix\n",
    "if data.shape[1] < 100:\n",
    "    plt.figure(figsize=(50.0, 40.0))\n",
    "    # 选择可视化的相关系数\n",
    "    draw_matrix(pearson_corr, annot=True, cmap='YlGnBu', cbar=False)\n",
    "    plt.savefig(f'img/{task_type}feature_corr.svg', bbox_inches = 'tight')"
   ]
  },
  {
   "cell_type": "markdown",
   "id": "c8190131",
   "metadata": {},
   "source": [
    "### 聚类分析\n",
    "\n",
    "通过修改变量名，可以可视化不同相关系数下的相聚类分析矩阵。\n",
    "\n",
    "注意：当特征特别多的时候（大于100），尽量不要可视化，否则运行时间会特别长。"
   ]
  },
  {
   "cell_type": "code",
   "execution_count": null,
   "id": "dcd6297e",
   "metadata": {
    "scrolled": false
   },
   "outputs": [],
   "source": [
    "import seaborn as sns\n",
    "import matplotlib.pyplot as plt\n",
    "\n",
    "if data.shape[1] < 100:\n",
    "    pp = sns.clustermap(pearson_corr, linewidths=.5, figsize=(50.0, 40.0), cmap='YlGnBu')\n",
    "    plt.setp(pp.ax_heatmap.get_yticklabels(), rotation=0)\n",
    "    plt.savefig(f'img/{task_type}feature_cluster.svg', bbox_inches = 'tight')"
   ]
  },
  {
   "cell_type": "markdown",
   "id": "3fcb5c23",
   "metadata": {},
   "source": [
    "### 特征筛选 -- 相关系数\n",
    "\n",
    "根据相关系数，对于相关性比较高的特征（一般文献取corr>0.9），两者保留其一。\n",
    "\n",
    "```python\n",
    "def select_feature(corr, threshold: float = 0.9, keep: int = 1, topn=10, verbose=False):\n",
    "    \"\"\"\n",
    "    * corr, 相关系数矩阵。\n",
    "    * threshold，筛选的相关系数的阈值，大于阈值的两者保留其一（可以根据keep修改，可以是其二...）。默认阈值为0.9\n",
    "    * keep，可以选择大于相关系数，保留几个，默认只保留一个。\n",
    "    * topn, 每次去掉多少重复特征。\n",
    "    * verbose，是否打印日志\n",
    "    \"\"\"\n",
    "```"
   ]
  },
  {
   "cell_type": "code",
   "execution_count": null,
   "id": "9c51de84",
   "metadata": {},
   "outputs": [],
   "source": [
    "# 特征筛选视频\n",
    "onekey_show('传统组学任务|特征筛选')"
   ]
  },
  {
   "cell_type": "code",
   "execution_count": null,
   "id": "4fe3df7d",
   "metadata": {},
   "outputs": [],
   "source": [
    "from onekey_algo.custom.components.comp1 import select_feature, select_feature_mrmr\n",
    "sel_feature = select_feature(pearson_corr, threshold=0.9, topn=128, verbose=False)\n",
    "if get_param_in_cwd('mrmr_sel_feature_num', None) is not None:\n",
    "    num_features = min(len(sel_feature), get_param_in_cwd('mrmr_sel_feature_num'))\n",
    "    sel_feature = select_feature_mrmr(data[data['group'] == 'train'][sel_feature + labels], num_features=num_features)\n",
    "sel_feature += labels + [group_info]\n",
    "sel_feature"
   ]
  },
  {
   "cell_type": "markdown",
   "id": "e88423c1",
   "metadata": {},
   "source": [
    "### 过滤特征\n",
    "\n",
    "通过`sel_feature`过滤出筛选出来的特征。"
   ]
  },
  {
   "cell_type": "code",
   "execution_count": null,
   "id": "86e09b3f",
   "metadata": {},
   "outputs": [],
   "source": [
    "sel_data = data[sel_feature]\n",
    "sel_data.describe()"
   ]
  },
  {
   "cell_type": "markdown",
   "id": "35eef0b1",
   "metadata": {},
   "source": [
    "### 样本可视化\n",
    "\n",
    "根据特征和label信息，将rad features降维到2维，看不同的label样本在二维空间的分布。\n",
    "\n",
    "**注意**：由于特征空间维度极高，降维难免会有损失，所以二维的可视化仅供参考。\n",
    "\n",
    "目前支持的:\n",
    "\n",
    "| **降维方法** | **Method名称**                                                 |\n",
    "| ------------ | ------------------------------------------------------------ |\n",
    "| LLE      | Standard LLE, Modified LLE                                   |\n",
    "| PCA      | t-SNE, NCA                                                      |\n",
    "| SVD      | Truncated SVD                                              |\n",
    "| Model Based      | Random projection, Isomap, MDS, Random Trees,Spectral       |"
   ]
  },
  {
   "cell_type": "code",
   "execution_count": null,
   "id": "27f66162",
   "metadata": {},
   "outputs": [],
   "source": [
    "from onekey_algo.custom.components.comp1 import analysis_features\n",
    "analysis_features(sel_data[sel_feature[:-2]], data[labels[0]], methods='t-SNE')"
   ]
  },
  {
   "cell_type": "markdown",
   "id": "e8e31ba9",
   "metadata": {},
   "source": [
    "## 构建数据\n",
    "\n",
    "将样本的训练数据X与监督信息y分离出来，并且对训练数据进行划分，一般的划分原则为80%-20%"
   ]
  },
  {
   "cell_type": "code",
   "execution_count": null,
   "id": "4a923e73",
   "metadata": {},
   "outputs": [],
   "source": [
    "import numpy as np\n",
    "import onekey_algo.custom.components as okcomp\n",
    "\n",
    "n_classes = 2\n",
    "train_data = sel_data[(sel_data[group_info] == 'train')]\n",
    "train_ids = ids[train_data.index]\n",
    "train_data = train_data.reset_index()\n",
    "train_data = train_data.drop('index', axis=1)\n",
    "y_data = train_data[labels]\n",
    "X_data = train_data.drop(labels + [group_info], axis=1)\n",
    "\n",
    "test_data = sel_data[sel_data[group_info] != 'train']\n",
    "test_ids = ids[test_data.index]\n",
    "test_data = test_data.reset_index()\n",
    "test_data = test_data.drop('index', axis=1)\n",
    "y_test_data = test_data[labels]\n",
    "X_test_data = test_data.drop(labels + [group_info], axis=1)\n",
    "\n",
    "y_all_data = sel_data[labels]\n",
    "X_all_data = sel_data.drop(labels + [group_info], axis=1)\n",
    "\n",
    "column_names = X_data.columns\n",
    "print(f\"训练集样本数：{X_data.shape}, 验证集样本数：{X_test_data.shape}\")"
   ]
  },
  {
   "cell_type": "markdown",
   "id": "6548eaee",
   "metadata": {},
   "source": [
    "### Lasso\n",
    "\n",
    "初始化Lasso模型，alpha为惩罚系数。具体的参数文档可以参考：[文档](https://scikit-learn.org/stable/modules/generated/sklearn.linear_model.Lasso.html?highlight=lasso#sklearn.linear_model.Lasso)\n",
    "\n",
    "### 交叉验证\n",
    "\n",
    "不同Lambda下的，特征的的权重大小。\n",
    "```python\n",
    "def lasso_cv_coefs(X_data, y_data, points=50, column_names: List[str] = None, **kwargs):\n",
    "    \"\"\"\n",
    "\n",
    "    Args:\n",
    "        X_data: 训练数据\n",
    "        y_data: 监督数据\n",
    "        points: 打印多少个点。默认50\n",
    "        column_names: 列名，默认为None，当选择的数据很多的时候，建议不要添加此参数\n",
    "        **kwargs: 其他用于打印控制的参数。\n",
    "\n",
    "    \"\"\"\n",
    " ```"
   ]
  },
  {
   "cell_type": "code",
   "execution_count": null,
   "id": "28efd09a",
   "metadata": {},
   "outputs": [],
   "source": [
    "alpha = okcomp.comp1.lasso_cv_coefs(X_data, y_data, column_names=None, ensure_lastn=-40)\n",
    "plt.savefig(f'img/{task_type}feature_lasso.svg', bbox_inches = 'tight')"
   ]
  },
  {
   "cell_type": "markdown",
   "id": "72d1f11f",
   "metadata": {},
   "source": [
    "### 模型效能\n",
    "\n",
    "```python\n",
    "def lasso_cv_efficiency(X_data, y_data, points=50, **kwargs):\n",
    "    \"\"\"\n",
    "\n",
    "    Args:\n",
    "        Xdata: 训练数据\n",
    "        ydata: 测试数据\n",
    "        points: 打印的数据密度\n",
    "        **kwargs: 其他的图像样式\n",
    "            # 数据点标记, fmt=\"o\"\n",
    "            # 数据点大小, ms=3\n",
    "            # 数据点颜色, mfc=\"r\"\n",
    "            # 数据点边缘颜色, mec=\"r\"\n",
    "            # 误差棒颜色, ecolor=\"b\"\n",
    "            # 误差棒线宽, elinewidth=2\n",
    "            # 误差棒边界线长度, capsize=2\n",
    "            # 误差棒边界厚度, capthick=1\n",
    "    Returns:\n",
    "    \"\"\"\n",
    " ```"
   ]
  },
  {
   "cell_type": "code",
   "execution_count": null,
   "id": "ca62636c",
   "metadata": {},
   "outputs": [],
   "source": [
    "okcomp.comp1.lasso_cv_efficiency(X_data, y_data, points=50, y_major_locator=0.1)\n",
    "plt.savefig(f'img/{task_type}feature_mse.svg', bbox_inches = 'tight')"
   ]
  },
  {
   "cell_type": "markdown",
   "id": "4c02f30b",
   "metadata": {},
   "source": [
    "### 惩罚系数\n",
    "\n",
    "使用交叉验证的惩罚系数作为模型训练的基础。"
   ]
  },
  {
   "cell_type": "code",
   "execution_count": null,
   "id": "6f29840a",
   "metadata": {},
   "outputs": [],
   "source": [
    "from sklearn import linear_model\n",
    "\n",
    "models = []\n",
    "for label in labels:\n",
    "    clf = linear_model.Lasso(alpha=alpha)\n",
    "    clf.fit(X_data, y_data[label])\n",
    "    models.append(clf)"
   ]
  },
  {
   "cell_type": "markdown",
   "id": "d6bda574",
   "metadata": {},
   "source": [
    "### 特征筛选\n",
    "\n",
    "筛选出其中coef > 0的特征。并且打印出相应的公式。"
   ]
  },
  {
   "cell_type": "code",
   "execution_count": null,
   "id": "e787ee17",
   "metadata": {},
   "outputs": [],
   "source": [
    "COEF_THRESHOLD = 1e-6 # 筛选的特征阈值\n",
    "scores = []\n",
    "selected_features = []\n",
    "for label, model in zip(labels, models):\n",
    "    feat_coef = [(feat_name, coef) for feat_name, coef in zip(column_names, model.coef_) \n",
    "                 if COEF_THRESHOLD is None or abs(coef) > COEF_THRESHOLD]\n",
    "    selected_features.append([feat for feat, _ in feat_coef])\n",
    "    formula = ' '.join([f\"{coef:+.6f} * {feat_name}\" for feat_name, coef in feat_coef])\n",
    "    score = f\"{label} = {model.intercept_} {'+' if formula[0] != '-' else ''} {formula}\"\n",
    "    scores.append(score)\n",
    "    \n",
    "print(scores[0])"
   ]
  },
  {
   "cell_type": "markdown",
   "id": "eb884b8e",
   "metadata": {},
   "source": [
    "### 特征权重"
   ]
  },
  {
   "cell_type": "code",
   "execution_count": null,
   "id": "26a22e86",
   "metadata": {},
   "outputs": [],
   "source": [
    "feat_coef = sorted(feat_coef, key=lambda x: x[1])\n",
    "feat_coef_df = pd.DataFrame(feat_coef, columns=['feature_name', 'Coefficients'])\n",
    "feat_coef_df.plot(x='feature_name', y='Coefficients', kind='barh')\n",
    "\n",
    "plt.savefig(f'img/{task_type}feature_weights.svg', bbox_inches = 'tight')"
   ]
  },
  {
   "cell_type": "markdown",
   "id": "0184fdad",
   "metadata": {},
   "source": [
    "### 进一步筛选特征\n",
    "\n",
    "使用Lasso筛选出来的Coefficients比较高的特征作为训练数据。"
   ]
  },
  {
   "cell_type": "code",
   "execution_count": null,
   "id": "10064550",
   "metadata": {},
   "outputs": [],
   "source": [
    "X_data = X_data[selected_features[0]]\n",
    "X_test_data = X_test_data[selected_features[0]]\n",
    "X_data.columns"
   ]
  },
  {
   "cell_type": "markdown",
   "id": "86b7e7da",
   "metadata": {},
   "source": [
    "## 模型筛选\n",
    "\n",
    "根据筛选出来的数据，做模型的初步选择。当前主要使用到的是Onekey中的\n",
    "\n",
    "1. SVM，支持向量机，引用参考。\n",
    "2. KNN，K紧邻，引用参考。\n",
    "3. Decision Tree，决策树，引用参考。\n",
    "4. Random Forests, 随机森林，引用参考。\n",
    "5. XGBoost, bosting方法。引用参考。\n",
    "6. LightGBM, bosting方法，引用参考。"
   ]
  },
  {
   "cell_type": "code",
   "execution_count": null,
   "id": "fbab32fa",
   "metadata": {},
   "outputs": [],
   "source": [
    "from sklearn.ensemble import ExtraTreesClassifier, RandomForestClassifier, AdaBoostClassifier, GradientBoostingClassifier\n",
    "from sklearn.neural_network import MLPClassifier\n",
    "from xgboost import XGBClassifier\n",
    "from lightgbm import LGBMClassifier\n",
    "from sklearn.linear_model import LogisticRegression\n",
    "from sklearn.svm import SVC\n",
    "\n",
    "model_names = get_param_in_cwd('ml_models')\n",
    "models = okcomp.comp1.create_clf_model_none_overfit(model_names)\n",
    "\n",
    "models['LR'] = LogisticRegression(penalty='none', max_iter=100)\n",
    "models['SVM'] = SVC(probability=True, max_iter=100)\n",
    "models['RandomForest'] = RandomForestClassifier(n_estimators=50, max_depth=5,\n",
    "                                                    min_samples_split=4, random_state=0)\n",
    "models['XGBoost'] = XGBClassifier(n_estimators=100, objective='binary:logistic', max_depth=3, min_child_weight=.2,\n",
    "                                          use_label_encoder=False, eval_metric='error')\n",
    "models['LightGBM'] = LGBMClassifier(n_estimators=20,  max_depth=4, min_child_weight=0.5,)\n",
    "models['ExtraTrees'] = ExtraTreesClassifier(n_estimators=20, max_depth=5, min_samples_split=2, random_state=0)\n",
    "models['GradientBoosting'] = GradientBoostingClassifier(n_estimators=50, random_state=0)\n",
    "models['AdaBoost'] = AdaBoostClassifier(n_estimators=10, random_state=0)\n",
    "model_names = list(models.keys())"
   ]
  },
  {
   "cell_type": "markdown",
   "id": "c369ea2d",
   "metadata": {},
   "source": [
    "### 交叉验证\n",
    "\n",
    "`n_trails`指定随机次数，每次采用的是80%训练，随机20%进行测试，找到最好的模型，以及对应的最好的数据划分。"
   ]
  },
  {
   "cell_type": "code",
   "execution_count": null,
   "id": "7bedcf86",
   "metadata": {},
   "outputs": [],
   "source": [
    "import seaborn as sns\n",
    "import matplotlib.pyplot as plt\n",
    "import pandas as pd\n",
    "from sklearn.metrics import accuracy_score, roc_auc_score\n",
    "\n",
    "# 随机使用n_trails次数据划分，找到最好的一次划分方法，并且保存在results中。\n",
    "results = okcomp.comp1.get_bst_split(X_data, y_data, models, test_size=0.2, metric_fn=roc_auc_score, n_trails=5, cv=True, random_state=0)\n",
    "_, (X_train_sel, X_test_sel, y_train_sel, y_test_sel) = results['results'][results['max_idx']]\n",
    "X_train_sel, X_test_sel, y_train_sel, y_test_sel = X_data, X_test_data, y_data, y_test_data\n",
    "trails, _ = zip(*results['results'])\n",
    "cv_results = pd.DataFrame(trails, columns=model_names)\n",
    "# 可视化每个模型在不同的数据划分中的效果。\n",
    "sns.boxplot(data=cv_results)\n",
    "plt.ylabel('AUC %')\n",
    "plt.xlabel('Model Name')\n",
    "plt.savefig(f'img/{task_type}model_cv.svg', bbox_inches = 'tight')"
   ]
  },
  {
   "cell_type": "markdown",
   "id": "2ac7440e",
   "metadata": {},
   "source": [
    "## 模型筛选\n",
    "\n",
    "使用最好的数据划分，进行后续的模型研究。\n",
    "\n",
    "**注意**: 一般情况下论文使用的是随机划分的数据，但也有些论文使用【刻意】筛选的数据划分。"
   ]
  },
  {
   "cell_type": "code",
   "execution_count": null,
   "id": "7158f70a",
   "metadata": {
    "scrolled": true
   },
   "outputs": [],
   "source": [
    "import joblib\n",
    "import json\n",
    "from onekey_algo.custom.components.comp1 import plot_feature_importance, plot_learning_curve, smote_resample\n",
    "\n",
    "from sklearn.ensemble import ExtraTreesClassifier, RandomForestClassifier, AdaBoostClassifier, GradientBoostingClassifier\n",
    "from sklearn.neural_network import MLPClassifier\n",
    "from xgboost import XGBClassifier\n",
    "from lightgbm import LGBMClassifier\n",
    "from sklearn.linear_model import LogisticRegression\n",
    "from sklearn.svm import SVC\n",
    "from sklearn.neural_network import MLPClassifier\n",
    "from onekey_algo.custom.encrypt.security import dump_onekey, load_onekey\n",
    "\n",
    "targets = []\n",
    "os.makedirs('models', exist_ok=True)\n",
    "for l in labels:\n",
    "    new_models = okcomp.comp1.create_clf_model_none_overfit(model_names)\n",
    "    new_models['LR'] = LogisticRegression(penalty='none', max_iter=100)\n",
    "    new_models['SVM'] = SVC(probability=True, max_iter=100, kernel='linear')\n",
    "    new_models['RandomForest'] = RandomForestClassifier(n_estimators=5, max_depth=3,\n",
    "                                                        min_samples_split=4, random_state=0)\n",
    "    new_models['XGBoost'] = XGBClassifier(n_estimators=6, objective='binary:logistic', max_depth=3, min_child_weight=.2,\n",
    "                                              use_label_encoder=False, eval_metric='error')\n",
    "    new_models['LightGBM'] = LGBMClassifier(n_estimators=2,  max_depth=1, min_child_weight=0.5,)\n",
    "    new_models['ExtraTrees'] = ExtraTreesClassifier(n_estimators=60, max_depth=5, min_samples_split=2, random_state=0)\n",
    "    new_models['GradientBoosting'] = GradientBoostingClassifier(n_estimators=50, random_state=0)\n",
    "    new_models['AdaBoost'] = AdaBoostClassifier(n_estimators=10, random_state=0)\n",
    "    new_models['MLP'] = MLPClassifier(hidden_layer_sizes=(61, 128, 64, 32), max_iter=300, solver='sgd', random_state=0)\n",
    "    model_names = list(new_models.keys())\n",
    "    new_models = list(new_models.values())\n",
    "    \n",
    "    for mn, m in zip(model_names, new_models):\n",
    "        X_train_smote, y_train_smote = X_train_sel, y_train_sel\n",
    "        # 取消下一行的注释可以使用Smote进行采样，解决样本不均衡的问题。\n",
    "        if get_param_in_cwd('use_smote', False):\n",
    "            X_train_smote, y_train_smote = smote_resample(X_train_sel, y_train_sel)\n",
    "        m.fit(X_train_smote, y_train_smote[l])\n",
    "        # 输出模型特征重要性，只针对高级树模型有用\n",
    "#         plot_feature_importance(m, selected_features[0], save_dir='img')\n",
    "#         plot_learning_curve(m, X_train_sel, y_train_sel, title=f'Learning Curve {mn}')\n",
    "#         plt.savefig(f\"img/Rad_{mn}_learning_curve.svg\", bbox_inches='tight')\n",
    "        plt.show()\n",
    "    targets.append(new_models)\n",
    "    encoder = json.loads(open('results/norm_info.json').read())\n",
    "    dump_onekey({'TYPE':'WEBUI',\n",
    "                 'data': pd.concat([ids, combined_data[selected_features[0]]], axis=1),\n",
    "                 'models': {mn:nm for mn, nm in zip(model_names, new_models)},\n",
    "                 'encoder': {fname: encoder[fname] for fname in selected_features[0]},\n",
    "                 'feature_config': selected_features[0]},\n",
    "                save_path=f'web/config')"
   ]
  },
  {
   "cell_type": "markdown",
   "id": "88194089",
   "metadata": {},
   "source": [
    "## 预测结果\n",
    "\n",
    "* predictions，二维数据，每个label对应的每个模型的预测结果。\n",
    "* pred_scores，二维数据，每个label对应的每个模型的预测概率值。"
   ]
  },
  {
   "cell_type": "code",
   "execution_count": null,
   "id": "ba87adcf",
   "metadata": {},
   "outputs": [],
   "source": [
    "from sklearn.metrics import accuracy_score\n",
    "from sklearn.preprocessing import OneHotEncoder\n",
    "from onekey_algo.custom.components.delong import calc_95_CI\n",
    "from onekey_algo.custom.components.metrics import analysis_pred_binary\n",
    "\n",
    "predictions = [[(model.predict(X_train_sel), model.predict(X_test_sel)) \n",
    "                for model in target] for label, target in zip(labels, targets)]\n",
    "pred_scores = [[(model.predict_proba(X_train_sel), model.predict_proba(X_test_sel)) \n",
    "                for model in target] for label, target in zip(labels, targets)]\n",
    "\n",
    "metric = []\n",
    "pred_sel_idx = []\n",
    "for label, prediction, scores in zip(labels, predictions, pred_scores):\n",
    "    pred_sel_idx_label = []\n",
    "    for mname, (train_pred, test_pred), (train_score, test_score) in zip(model_names, prediction, scores):\n",
    "        # 计算训练集指数\n",
    "        acc, auc, ci, tpr, tnr, ppv, npv, precision, recall, f1, thres = analysis_pred_binary(y_train_sel[label], \n",
    "                                                                                              train_score[:, 1])\n",
    "        ci = f\"{ci[0]:.4f} - {ci[1]:.4f}\"\n",
    "        metric.append((mname, acc, auc, ci, tpr, tnr, ppv, npv, precision, recall, f1, thres, f\"train\"))\n",
    "                 \n",
    "        # 计算验证集指标\n",
    "        acc, auc, ci, tpr, tnr, ppv, npv, precision, recall, f1, thres = analysis_pred_binary(y_test_sel[label], \n",
    "                                                                                              test_score[:, 1])\n",
    "        ci = f\"{ci[0]:.4f} - {ci[1]:.4f}\"\n",
    "        metric.append((mname, acc, auc, ci, tpr, tnr, ppv, npv, precision, recall, f1, thres, f\"test\"))\n",
    "        # 计算thres对应的sel idx\n",
    "        pred_sel_idx_label.append(np.logical_or(test_score[:, 0] >= thres, test_score[:, 1] >= thres))\n",
    "    \n",
    "    pred_sel_idx.append(pred_sel_idx_label)\n",
    "metric = pd.DataFrame(metric, index=None, columns=['model_name', 'Accuracy', 'AUC', '95% CI',\n",
    "                                                   'Sensitivity', 'Specificity', \n",
    "                                                   'PPV', 'NPV', 'Precision', 'Recall', 'F1',\n",
    "                                                   'Threshold', 'Task'])\n",
    "metric"
   ]
  },
  {
   "cell_type": "markdown",
   "id": "d50bc4d4",
   "metadata": {},
   "source": [
    "### 绘制曲线\n",
    "\n",
    "绘制的不同模型的准确率柱状图和折线图曲线。"
   ]
  },
  {
   "cell_type": "code",
   "execution_count": null,
   "id": "71f86dcd",
   "metadata": {},
   "outputs": [],
   "source": [
    "import seaborn as sns\n",
    "\n",
    "plt.figure(figsize=(10, 10))\n",
    "plt.subplot(211)\n",
    "sns.barplot(x='model_name', y='Accuracy', data=metric, hue='Task')\n",
    "plt.subplot(212)\n",
    "sns.lineplot(x='model_name', y='Accuracy', data=metric, hue='Task')\n",
    "plt.savefig(f'img/{task_type}model_acc.svg', bbox_inches = 'tight')"
   ]
  },
  {
   "cell_type": "markdown",
   "id": "3f5585c2",
   "metadata": {},
   "source": [
    "### 绘制ROC曲线\n",
    "确定最好的模型，并且绘制曲线。\n",
    "\n",
    "```python\n",
    "def draw_roc(y_test, y_score, title='ROC', labels=None):\n",
    "```\n",
    "\n",
    "`sel_model = ['SVM', 'KNN']`参数为想要绘制的模型对应的参数。"
   ]
  },
  {
   "cell_type": "code",
   "execution_count": null,
   "id": "b610f5d0",
   "metadata": {},
   "outputs": [],
   "source": [
    "sel_model = model_names\n",
    "\n",
    "for sm in sel_model:\n",
    "    if sm in model_names:\n",
    "        sel_model_idx = model_names.index(sm)\n",
    "    \n",
    "        # Plot all ROC curves\n",
    "        plt.figure(figsize=(8, 8))\n",
    "        for pred_score, label in zip(pred_scores, labels):\n",
    "            okcomp.comp1.draw_roc([np.array(y_train_sel[label]), np.array(y_test_sel[label])], \n",
    "                                  pred_score[sel_model_idx], \n",
    "                                  labels=['Train', 'Test'], title=f\"Model: {sm}\")\n",
    "            plt.savefig(f'img/{task_type}model_{sm}_roc.svg', bbox_inches = 'tight')"
   ]
  },
  {
   "cell_type": "markdown",
   "id": "10899ae5",
   "metadata": {},
   "source": [
    "#### 汇总所有模型"
   ]
  },
  {
   "cell_type": "code",
   "execution_count": null,
   "id": "20e770a9",
   "metadata": {},
   "outputs": [],
   "source": [
    "sel_model = model_names\n",
    "\n",
    "for pred_score, label in zip(pred_scores, labels):\n",
    "    pred_test_scores = []\n",
    "    for sm in sel_model:\n",
    "        if sm in model_names:\n",
    "            sel_model_idx = model_names.index(sm)\n",
    "            pred_test_scores.append(pred_score[sel_model_idx][0])\n",
    "    okcomp.comp1.draw_roc([np.array(y_train_sel[label])] * len(pred_test_scores), \n",
    "                          pred_test_scores, \n",
    "                          labels=sel_model, title=f\"Model AUC\")\n",
    "    plt.savefig(f'img/{task_type}model_roc_train.svg', bbox_inches = 'tight')\n",
    "    plt.show()\n",
    "\n",
    "for pred_score, label in zip(pred_scores, labels):\n",
    "    pred_test_scores = []\n",
    "    for sm in sel_model:\n",
    "        if sm in model_names:\n",
    "            sel_model_idx = model_names.index(sm)\n",
    "            pred_test_scores.append(pred_score[sel_model_idx][1])\n",
    "    okcomp.comp1.draw_roc([np.array(y_test_sel[label])] * len(pred_test_scores), \n",
    "                          pred_test_scores, \n",
    "                          labels=sel_model, title=f\"Model AUC\")\n",
    "    plt.savefig(f'img/{task_type}model_roc_test.svg', bbox_inches = 'tight')"
   ]
  },
  {
   "cell_type": "markdown",
   "id": "24e955e3",
   "metadata": {},
   "source": [
    "### DCA 决策曲线"
   ]
  },
  {
   "cell_type": "code",
   "execution_count": null,
   "id": "8ab01b0b",
   "metadata": {},
   "outputs": [],
   "source": [
    "from onekey_algo.custom.components.comp1 import plot_DCA\n",
    "\n",
    "for pred_score, label in zip(pred_scores, labels):\n",
    "    pred_test_scores = []\n",
    "    for sm in sel_model:\n",
    "        if sm in model_names:\n",
    "            sel_model_idx = model_names.index(sm)\n",
    "            okcomp.comp1.plot_DCA(pred_score[sel_model_idx][0][:,1], np.array(y_train_sel[label]),\n",
    "                                  title=f'Model {sm} DCA')\n",
    "            plt.savefig(f'img/{task_type}model_{sm}_dca_train.svg', bbox_inches = 'tight')\n",
    "            plt.show()\n",
    "\n",
    "for pred_score, label in zip(pred_scores, labels):\n",
    "    pred_test_scores = []\n",
    "    for sm in sel_model:\n",
    "        if sm in model_names:\n",
    "            sel_model_idx = model_names.index(sm)\n",
    "            okcomp.comp1.plot_DCA(pred_score[sel_model_idx][1][:,1], np.array(y_test_sel[label]),\n",
    "                                  title=f'Model {sm} DCA')\n",
    "            plt.savefig(f'img/{task_type}model_{sm}_dca_test.svg', bbox_inches = 'tight')"
   ]
  },
  {
   "cell_type": "markdown",
   "id": "96ae6a46",
   "metadata": {},
   "source": [
    "### 绘制混淆矩阵\n",
    "\n",
    "绘制混淆矩阵，[混淆矩阵解释](https://baike.baidu.com/item/%E6%B7%B7%E6%B7%86%E7%9F%A9%E9%98%B5/10087822?fr=aladdin)\n",
    "`sel_model = ['SVM', 'KNN']`参数为想要绘制的模型对应的参数。\n",
    "\n",
    "如果需要修改标签到名称的映射，修改`class_mapping={1:'1', 0:'0'}`"
   ]
  },
  {
   "cell_type": "code",
   "execution_count": null,
   "id": "b5012998",
   "metadata": {},
   "outputs": [],
   "source": [
    "# 设置绘制参数\n",
    "sel_model = model_names\n",
    "c_matrix = {}\n",
    "\n",
    "for sm in sel_model:\n",
    "    if sm in model_names:\n",
    "        sel_model_idx = model_names.index(sm)\n",
    "        for idx, label in enumerate(labels):\n",
    "            cm = okcomp.comp1.calc_confusion_matrix(predictions[idx][sel_model_idx][0], y_train_sel[label],\n",
    "#                                                     sel_idx = pred_sel_idx[idx][sel_model_idx],\n",
    "                                                    class_mapping={1:'1', 0:'0'}, num_classes=2)\n",
    "            c_matrix[label] = cm\n",
    "            plt.figure(figsize=(5, 4))\n",
    "            plt.title(f'Model:{sm}')\n",
    "            okcomp.comp1.draw_matrix(cm, norm=False, annot=True, cmap='Blues', fmt='.3g')\n",
    "            plt.savefig(f'img/{task_type}model_{sm}_cm_train.svg', bbox_inches = 'tight')\n",
    "\n",
    "for sm in sel_model:\n",
    "    if sm in model_names:\n",
    "        sel_model_idx = model_names.index(sm)\n",
    "        for idx, label in enumerate(labels):\n",
    "            cm = okcomp.comp1.calc_confusion_matrix(predictions[idx][sel_model_idx][-1], y_test_sel[label],\n",
    "#                                                     sel_idx = pred_sel_idx[idx][sel_model_idx],\n",
    "                                                    class_mapping={1:'1', 0:'0'}, num_classes=2)\n",
    "            c_matrix[label] = cm\n",
    "            plt.figure(figsize=(5, 4))\n",
    "            plt.title(f'Model:{sm}')\n",
    "            okcomp.comp1.draw_matrix(cm, norm=False, annot=True, cmap='Blues', fmt='.3g')\n",
    "            plt.savefig(f'img/{task_type}model_{sm}_cm_test.svg', bbox_inches = 'tight')"
   ]
  },
  {
   "cell_type": "markdown",
   "id": "8d9bf5f6",
   "metadata": {},
   "source": [
    "### 样本预测直方图\n",
    "\n",
    "绘制每个样本的预测结果以及对应的真实结果, 图例中label=xx可以修改成自己类别的真实标签。"
   ]
  },
  {
   "cell_type": "code",
   "execution_count": null,
   "id": "a2a77b32",
   "metadata": {},
   "outputs": [],
   "source": [
    "sel_model = model_names\n",
    "c_matrix = {}\n",
    "\n",
    "for sm in sel_model:\n",
    "    if sm in model_names:\n",
    "        sel_model_idx = model_names.index(sm)\n",
    "        for idx, label in enumerate(labels):            \n",
    "            okcomp.comp1.draw_predict_score(pred_scores[idx][sel_model_idx][0], y_train_sel[label])\n",
    "            plt.title(f'{sm} sample predict score')\n",
    "            plt.legend(labels=[\"label=0\",\"label=1\"],loc=\"lower right\") \n",
    "            plt.savefig(f'img/{task_type}model_{sm}_sample_dis_train.svg', bbox_inches = 'tight')\n",
    "            plt.show()\n",
    "\n",
    "for sm in sel_model:\n",
    "    if sm in model_names:\n",
    "        sel_model_idx = model_names.index(sm)\n",
    "        for idx, label in enumerate(labels):            \n",
    "            okcomp.comp1.draw_predict_score(pred_scores[idx][sel_model_idx][-1], y_test_sel[label])\n",
    "            plt.title(f'{sm} sample predict score')\n",
    "            plt.legend(labels=[\"label=0\",\"label=1\"],loc=\"lower right\") \n",
    "            plt.savefig(f'img/{task_type}model_{sm}_sample_dis_test.svg', bbox_inches = 'tight')\n",
    "            plt.show()"
   ]
  },
  {
   "cell_type": "markdown",
   "id": "1da92679",
   "metadata": {},
   "source": [
    "## 保存模型结果\n",
    "\n",
    "可以把模型预测的标签结果以及每个类别的概率都保存下来。"
   ]
  },
  {
   "cell_type": "code",
   "execution_count": null,
   "id": "fa78e5eb",
   "metadata": {},
   "outputs": [],
   "source": [
    "import os\n",
    "import numpy as np\n",
    "\n",
    "os.makedirs('results', exist_ok=True)\n",
    "sel_model = sel_model\n",
    "\n",
    "for idx, label in enumerate(labels):\n",
    "    for sm in sel_model:\n",
    "        if sm in model_names:\n",
    "            sel_model_idx = model_names.index(sm)\n",
    "            target = targets[idx][sel_model_idx]\n",
    "            # 预测训练集和测试集数据。\n",
    "            train_indexes = np.reshape(np.array(train_ids), (-1, 1)).astype(str)\n",
    "            test_indexes = np.reshape(np.array(test_ids), (-1, 1)).astype(str)\n",
    "            y_train_pred_scores = target.predict_proba(X_train_sel)\n",
    "            y_test_pred_scores = target.predict_proba(X_test_sel)\n",
    "            columns = ['ID'] + [f\"{label}-{i}\"for i in range(y_test_pred_scores.shape[1])]\n",
    "            # 保存预测的训练集和测试集结果\n",
    "            result_train = pd.DataFrame(np.concatenate([train_indexes, y_train_pred_scores], axis=1), columns=columns)\n",
    "            result_train.to_csv(f'results/{task_type}{sm}_train.csv', index=False)\n",
    "            result_test = pd.DataFrame(np.concatenate([test_indexes, y_test_pred_scores], axis=1), columns=columns)\n",
    "            result_test.to_csv(f'results/{task_type}{sm}_test.csv', index=False)"
   ]
  },
  {
   "cell_type": "code",
   "execution_count": null,
   "id": "07ea273f",
   "metadata": {},
   "outputs": [],
   "source": []
  }
 ],
 "metadata": {
  "kernelspec": {
   "display_name": "Python 3 (ipykernel)",
   "language": "python",
   "name": "python3"
  },
  "language_info": {
   "codemirror_mode": {
    "name": "ipython",
    "version": 3
   },
   "file_extension": ".py",
   "mimetype": "text/x-python",
   "name": "python",
   "nbconvert_exporter": "python",
   "pygments_lexer": "ipython3",
   "version": "3.7.12"
  }
 },
 "nbformat": 4,
 "nbformat_minor": 5
}
